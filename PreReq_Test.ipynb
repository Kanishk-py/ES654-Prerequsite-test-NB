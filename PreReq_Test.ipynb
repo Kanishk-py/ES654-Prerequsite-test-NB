{
  "nbformat": 4,
  "nbformat_minor": 0,
  "metadata": {
    "colab": {
      "provenance": [],
      "collapsed_sections": [
        "SQDgsZWjYzgX",
        "liNwKM9SkR8i",
        "gitCTGxmkGOJ",
        "nMl2wgWKkWpS",
        "sWT9223Dkurs",
        "CDh2zXjmTWVl",
        "Q0rtYIO9TXup"
      ]
    },
    "kernelspec": {
      "name": "python3",
      "display_name": "Python 3"
    },
    "language_info": {
      "name": "python"
    }
  },
  "cells": [
    {
      "cell_type": "code",
      "source": [
        "import numpy as np"
      ],
      "metadata": {
        "id": "Y4lFfdSYrK57"
      },
      "execution_count": 28,
      "outputs": []
    },
    {
      "cell_type": "markdown",
      "source": [
        "#Problem 1\n",
        "\n"
      ],
      "metadata": {
        "id": "SQDgsZWjYzgX"
      }
    },
    {
      "cell_type": "markdown",
      "source": [
        "In (n x k) and (k x m) matrix multiplication, \n",
        "\n",
        "for each entry there need to be,\n",
        "\n",
        "        k multiplications\n",
        "\n",
        "&\n",
        "\n",
        "        (k-1) additions\n",
        "\n",
        "So, total operations for matrix multiplication comes out to be,\n",
        "\n",
        "        n*m*k multiplications & n*m*(k-1) additions"
      ],
      "metadata": {
        "id": "hjeSmSdEgNYc"
      }
    },
    {
      "cell_type": "markdown",
      "source": [
        "#Problem 2"
      ],
      "metadata": {
        "id": "iQ2PH4jGj1R_"
      }
    },
    {
      "cell_type": "code",
      "source": [
        "# Using list of lists\n",
        "import timeit\n",
        "import statistics as st\n",
        "import random\n",
        "\n",
        "n,k,m = 3, 4, 3\n",
        "\n",
        "def matMul():\n",
        "    X = [ [random.randint(-1000, 1000) for j in range(k)] for i in range(n)]\n",
        "    Y = [ [random.randint(-1000, 1000) for j in range(m)] for i in range(k)]\n",
        "\n",
        "    result = [ [0 for x in range(m)] for y in range(n)]\n",
        "\n",
        "    for i in range(len(X)):\n",
        "        for j in range(len(Y[0])):\n",
        "            for l in range(len(Y)):\n",
        "                result[i][j] += X[i][l] * Y[l][j]\n",
        "\n",
        "result = %timeit -o -r 10 -n 1000 matMul()\n",
        "print(\"The average time taken:\", result.average)\n",
        "print(\"Standard deviation:\", result.stdev)"
      ],
      "metadata": {
        "id": "uNqayfUsj3Nt",
        "colab": {
          "base_uri": "https://localhost:8080/"
        },
        "outputId": "ae03e3b9-4f26-4d04-f5e4-c261e1303bfe"
      },
      "execution_count": 29,
      "outputs": [
        {
          "output_type": "stream",
          "name": "stdout",
          "text": [
            "45 µs ± 3.07 µs per loop (mean ± std. dev. of 10 runs, 1000 loops each)\n",
            "The average time taken: 4.498943690005035e-05\n",
            "Standard deviation: 3.07137137974165e-06\n"
          ]
        }
      ]
    },
    {
      "cell_type": "code",
      "source": [
        "#Using Numpy\n",
        "n,k,m = 3, 4, 3\n",
        "\n",
        "def matMul():\n",
        "  X = np.random.randint(-1000, 1000, size=(n, k))\n",
        "  Y = np.random.randint(-1000, 1000, size=(k, m))\n",
        "\n",
        "  M = np.dot(X, Y)\n",
        "\n",
        "result = %timeit -o -r 10 -n 1000 matMul()\n",
        "print(\"The average time taken:\", result.average)\n",
        "print(\"Standard deviation:\", result.stdev)"
      ],
      "metadata": {
        "colab": {
          "base_uri": "https://localhost:8080/"
        },
        "id": "qUohJpfe1HPa",
        "outputId": "316ba422-8520-4b93-c743-b821923cf0a7"
      },
      "execution_count": 30,
      "outputs": [
        {
          "output_type": "stream",
          "name": "stdout",
          "text": [
            "23.1 µs ± 1.61 µs per loop (mean ± std. dev. of 10 runs, 1000 loops each)\n",
            "The average time taken: 2.3065945000053033e-05\n",
            "Standard deviation: 1.6088580886223456e-06\n"
          ]
        }
      ]
    },
    {
      "cell_type": "markdown",
      "source": [
        "As we can see,\n",
        "\n",
        "The average time for 10 runs, 1000 loops each we get\n",
        "\n",
        "* For lists of lists\n",
        "  * Average or mean time = 42.9 µs\n",
        "  * Standard Deviation = 892 ms \n",
        "\n",
        "* For numpy\n",
        "  * Average or mean time = 23.4 µs\n",
        "  * Standard Deviation = 1.54 µs\n",
        "\n",
        "&nbsp;\n",
        "\n",
        "\n",
        "There is significant difference between computed time for matrix multiplication using the two methods because numpy iterates on arrays and performs arithmetic operations much faster than python interpretor. This is due to the fact that numpy in the core uses C array which are highly optimized for iterations and operations."
      ],
      "metadata": {
        "id": "qBlRPFQieBx7"
      }
    },
    {
      "cell_type": "markdown",
      "source": [
        "#Problem 3"
      ],
      "metadata": {
        "id": "ubZ-2Eqjj9LM"
      }
    },
    {
      "cell_type": "code",
      "source": [
        "ArrayRangemin = 0\n",
        "ArrayRangemax = 20\n",
        "A = np.random.randint(ArrayRangemin, ArrayRangemax, size = 9)\n",
        "\n",
        "def Highest_elem(A):\n",
        "  highest = 0\n",
        "\n",
        "  for j in range(len(A)):\n",
        "    if A[j] > A[highest]:\n",
        "        highest = j\n",
        "\n",
        "  return highest\n",
        "\n",
        "print(A)\n",
        "highest = Highest_elem(A)\n",
        "print(\"The highest element is\", A[highest])"
      ],
      "metadata": {
        "id": "ukfYBa5ukAjh",
        "colab": {
          "base_uri": "https://localhost:8080/"
        },
        "outputId": "e06f9188-457a-4d84-888e-7a362872f962"
      },
      "execution_count": 31,
      "outputs": [
        {
          "output_type": "stream",
          "name": "stdout",
          "text": [
            "[ 8 19 14  9 19 12  5 13 15]\n",
            "The highest element is 19\n"
          ]
        }
      ]
    },
    {
      "cell_type": "code",
      "source": [
        "def Second_highest_elem(A):\n",
        "  highest = 0\n",
        "\n",
        "  highInd = Highest_elem(A)\n",
        "  A[highInd] = ArrayRangemin-1\n",
        "    \n",
        "  return Highest_elem(A)\n",
        "\n",
        "print(A)\n",
        "highest = Second_highest_elem(A.copy())\n",
        "print(\"The second highest element is\", A[highest])"
      ],
      "metadata": {
        "colab": {
          "base_uri": "https://localhost:8080/"
        },
        "id": "Kzp3uq-9SkMT",
        "outputId": "0e4b8a02-1027-4730-f8a0-c013f5e25adc"
      },
      "execution_count": 32,
      "outputs": [
        {
          "output_type": "stream",
          "name": "stdout",
          "text": [
            "[ 8 19 14  9 19 12  5 13 15]\n",
            "The second highest element is 19\n"
          ]
        }
      ]
    },
    {
      "cell_type": "code",
      "source": [
        "# Median by calculating next highest element\n",
        "def median(A):\n",
        "  highInd = 0\n",
        "  highestVal = A[highInd]\n",
        "\n",
        "  for i in range(len(A)//2):\n",
        "    highInd = Highest_elem(A)\n",
        "    x = A[highInd]\n",
        "    A[highInd] = ArrayRangemin-1\n",
        "\n",
        "  if len(A)%2 == 0:\n",
        "    highInd = Highest_elem(A)\n",
        "    y = A[highInd]\n",
        "    return (x+y)/2\n",
        "  else:\n",
        "    return A[Highest_elem(A)]\n",
        "\n",
        "print(\"The median is: \", median(A.copy()))\n",
        "result = %timeit -o -r 10 -n 1000 median(A.copy())\n",
        "print(\"The average time taken:\", result.average)\n",
        "print(\"Standard deviation:\", result.stdev)"
      ],
      "metadata": {
        "colab": {
          "base_uri": "https://localhost:8080/"
        },
        "id": "BkxUw4cprzGX",
        "outputId": "5b7ddc88-3402-474f-ab00-96e71221f7e1"
      },
      "execution_count": 33,
      "outputs": [
        {
          "output_type": "stream",
          "name": "stdout",
          "text": [
            "The median is:  13\n",
            "16 µs ± 1.24 µs per loop (mean ± std. dev. of 10 runs, 1000 loops each)\n",
            "The average time taken: 1.601353840005686e-05\n",
            "Standard deviation: 1.242931288800935e-06\n"
          ]
        }
      ]
    },
    {
      "cell_type": "code",
      "source": [
        "#Calculating median by sorting\n",
        "def median_sort(A):\n",
        "  A.sort()\n",
        "  if len(A)%2 == 0:\n",
        "    return (( A[len(A)//2] + A[len(A)//2 + 1] )/2)\n",
        "  else:\n",
        "    return (A[len(A)//2])\n",
        "\n",
        "print(\"Median by sorting:\", median_sort(A.copy()))\n",
        "result = %timeit -o -r 10 -n 1000 median_sort(A.copy())\n",
        "print(\"The average time taken:\", result.average)\n",
        "print(\"Standard deviation:\", result.stdev)"
      ],
      "metadata": {
        "colab": {
          "base_uri": "https://localhost:8080/"
        },
        "id": "MWoO9pR_kp7X",
        "outputId": "9ef51cdf-3a58-4eb0-b644-d5e4872c56b8"
      },
      "execution_count": 34,
      "outputs": [
        {
          "output_type": "stream",
          "name": "stdout",
          "text": [
            "Median by sorting: 13\n",
            "The slowest run took 12.23 times longer than the fastest. This could mean that an intermediate result is being cached.\n",
            "2.17 µs ± 3.3 µs per loop (mean ± std. dev. of 10 runs, 1000 loops each)\n",
            "The average time taken: 2.1725738999521125e-06\n",
            "Standard deviation: 3.298989848084001e-06\n"
          ]
        }
      ]
    },
    {
      "cell_type": "code",
      "source": [
        "print(np.median(A))\n",
        "result = %timeit -o -r 10 -n 1000 np.median(A.copy())\n",
        "print(\"The average time taken:\", result.average)\n",
        "print(\"Standard deviation:\", result.stdev)\n",
        "A.sort()\n",
        "print(A)"
      ],
      "metadata": {
        "colab": {
          "base_uri": "https://localhost:8080/"
        },
        "id": "y09XggbON-7E",
        "outputId": "c0fb0812-8b46-4e23-d186-c2cf2353011b"
      },
      "execution_count": 35,
      "outputs": [
        {
          "output_type": "stream",
          "name": "stdout",
          "text": [
            "13.0\n",
            "22.5 µs ± 1.72 µs per loop (mean ± std. dev. of 10 runs, 1000 loops each)\n",
            "The average time taken: 2.2546246000001704e-05\n",
            "Standard deviation: 1.7239061645939791e-06\n",
            "[ 5  8  9 12 13 14 15 19 19]\n"
          ]
        }
      ]
    },
    {
      "cell_type": "markdown",
      "source": [
        "As we can see,\n",
        "\n",
        "\n",
        "To find the median of array we have three methods. Comparing these methods by their execution time, we have\n",
        "\n",
        "\n",
        "The average time for 10 runs, 1000 loops each:\n",
        "\n",
        "* By finding highest in the array\n",
        "  * Average or mean time = 20 µs\n",
        "  * Standard Deviation = 2.19 µs \n",
        "\n",
        "* By numpy median\n",
        "  * Average or mean time = 23.6 µs\n",
        "  * Standard Deviation = 6.63 µs\n",
        "\n",
        "* By sorting the array\n",
        "  * Average or mean time = 1.95 µs\n",
        "  * Standard Deviation = 408ns\n",
        "&nbsp;\n",
        "\n",
        "\n",
        "Here we can see that finding median using method in the problem statement and using `numpy.median` are almost same and not that fast.\n",
        "\n",
        "But, first sorting the array and then finding the median greatly improves the speed and computes its the fastest.\n",
        "\n",
        "Analysis:\n",
        "\n",
        "Time complexity\n",
        "* From highest in the array: $ O({n^2}) $\n",
        "* From highest in the array: $ O(n*logn) $"
      ],
      "metadata": {
        "id": "fyZNF7V0c88Z"
      }
    },
    {
      "cell_type": "markdown",
      "source": [
        "#Problem 4&5&6\n",
        "\n",
        "Given function $ f = x^2y + y^3\\sin{(x)} $ w.r.t $x$ and $y$.\n",
        "<br>\n",
        "\n",
        "$ \\frac{df}{dx} = 2xy + y^3\\cos{(x)} $\n",
        "<br>\n",
        "\n",
        "$ \\frac{df}{dy} = x^2 + 3y^2\\sin{(x)} $\n",
        "<br>\n",
        "\n",
        "Gradient of f is ( $ 2xy + y^3\\cos{(x)} $, &nbsp;  $ x^2 + 3y^2\\sin{(x)} $ )"
      ],
      "metadata": {
        "id": "uAj40RoMjrsF"
      }
    },
    {
      "cell_type": "code",
      "execution_count": 36,
      "metadata": {
        "id": "A--PytRNJUnG",
        "colab": {
          "base_uri": "https://localhost:8080/"
        },
        "outputId": "5f208d95-e5fa-447f-f7f5-659b230722d3"
      },
      "outputs": [
        {
          "output_type": "stream",
          "name": "stdout",
          "text": [
            "Gradient calculated by hand: ((2 * x * y + cos(x) * y ** 3), (x * x + sin(x) * 3 * y ** 2))\n",
            "Gradient evaluated by hand\n",
            "[0.5021931 1.5730457 2.2704515 1.2703688 0.1341156]  [0.4839975  1.9205058  3.0473099  1.4767023  0.10352471]\n"
          ]
        }
      ],
      "source": [
        "import jax\n",
        "import jax.numpy as jnp\n",
        "from jax import random\n",
        "import sympy\n",
        "key = random.PRNGKey(752913)\n",
        "\n",
        "def f(x, y):\n",
        "  return jnp.sum(x * x * y + jnp.sin(x) * y ** 3)\n",
        "\n",
        "def grad_f(x,y):\n",
        "  return ((2 * x * y + jnp.cos(x) * y ** 3), (x * x + jnp.sin(x) * 3 * y ** 2))\n",
        "\n",
        "\n",
        "X = jnp.asarray(random.uniform(key, shape=(5,)))\n",
        "Y = jnp.asarray(random.uniform(key, shape=(5,)))\n",
        "\n",
        "print(\"Gradient calculated by hand: ((2 * x * y + cos(x) * y ** 3), (x * x + sin(x) * 3 * y ** 2))\")\n",
        "print(\"Gradient evaluated by hand\")\n",
        "print( grad_f(X,Y)[0], end=\"  \")\n",
        "print( grad_f(X,Y)[1] )"
      ]
    },
    {
      "cell_type": "code",
      "source": [
        "df_dxy = jax.grad(f, argnums=(0, 1))\n",
        "\n",
        "print(\"Gradient evaluated by jax\")\n",
        "print( df_dxy(X,Y)[0] )\n",
        "print( df_dxy(X,Y)[1] )\n",
        "\n",
        "decPoints = 3\n",
        "print(\"is i cap Gradient equal:\", (df_dxy(X, Y)[0].round(decPoints) == grad_f(X,Y)[0].round(decPoints)).all())\n",
        "print(\"is j cap Gradient equal:\", (df_dxy(X, Y)[1].round(decPoints) == grad_f(X,Y)[1].round(decPoints)).all())"
      ],
      "metadata": {
        "colab": {
          "base_uri": "https://localhost:8080/"
        },
        "id": "1lhY0Vn1lgc-",
        "outputId": "1bb6d71a-291b-4163-c63e-da4ee795d03c"
      },
      "execution_count": 37,
      "outputs": [
        {
          "output_type": "stream",
          "name": "stdout",
          "text": [
            "Gradient evaluated by jax\n",
            "[0.5021931 1.5730457 2.2704515 1.2703688 0.1341156]\n",
            "[0.4839975  1.920506   3.0473099  1.4767025  0.10352471]\n",
            "is i cap Gradient equal: True\n",
            "is j cap Gradient equal: True\n"
          ]
        }
      ]
    },
    {
      "cell_type": "code",
      "source": [
        "x, y = sympy.symbols('x y')\n",
        "f = x*x*y + sympy.sin(x)*y**3\n",
        "\n",
        "sympy_grad = [sympy.diff(f, x), sympy.diff(f, y)]\n",
        "\n",
        "print(\"Gradient calculated by sympy: \", sympy_grad)\n",
        "print(\"x                  y\")\n",
        "for i in range(len(X)):\n",
        "  print(sympy_grad[0].subs([(x, X[i]), (y, Y[i])]), sympy_grad[1].subs([(x, X[i]), (y, Y[i])]))"
      ],
      "metadata": {
        "colab": {
          "base_uri": "https://localhost:8080/"
        },
        "id": "rs5fquotlgQL",
        "outputId": "916071bc-3891-4682-a9f7-31973e24f925"
      },
      "execution_count": 38,
      "outputs": [
        {
          "output_type": "stream",
          "name": "stdout",
          "text": [
            "Gradient calculated by sympy:  [2*x*y + y**3*cos(x), x**2 + 3*y**2*sin(x)]\n",
            "x                  y\n",
            "0.502193076587999 0.483997480552324\n",
            "1.57304566447440 1.92050579762359\n",
            "2.27045165391161 3.04730981193846\n",
            "1.27036870929392 1.47670225359170\n",
            "0.134115600834960 0.103524712056701\n"
          ]
        }
      ]
    },
    {
      "cell_type": "markdown",
      "source": [
        "Here we can see, gradients from all three methods are computed to be equal."
      ],
      "metadata": {
        "id": "UmLvRVWhUYCY"
      }
    },
    {
      "cell_type": "markdown",
      "source": [
        "#Problem 7"
      ],
      "metadata": {
        "id": "liNwKM9SkR8i"
      }
    },
    {
      "cell_type": "code",
      "source": [
        "StudentsDB ={\n",
        "    \"2022\": {\n",
        "        \"Branch1\":{\n",
        "            \"R1\": {\n",
        "                \"name\": \"Adam\",\n",
        "                \"marks\": {\n",
        "                    \"math\": 20,\n",
        "                    \"phys\": 10,\n",
        "                    \"chem\": 18\n",
        "                }\n",
        "            },\n",
        "            \"R2\": {\n",
        "                \"name\": \"Dave\",\n",
        "                \"marks\": {\n",
        "                    \"math\": 20,\n",
        "                    \"phys\": 20,\n",
        "                    \"chem\": 20\n",
        "                }\n",
        "            },\n",
        "            \n",
        "        },\n",
        "        \"Branch2\":{\n",
        "            \"R1\": {\n",
        "                \"name\": \"Bill\",\n",
        "                \"marks\": {\n",
        "                    \"math\": 20,\n",
        "                    \"phys\": 20,\n",
        "                    \"chem\": 20\n",
        "                }\n",
        "            }\n",
        "        }\n",
        "    },\n",
        "    \"2023\": {\n",
        "        \"Branch1\":{\n",
        "            \"R1\": {\n",
        "                \"name\": \"Cath\",\n",
        "                \"marks\": {\n",
        "                    \"math\": 20,\n",
        "                    \"phys\": 20,\n",
        "                    \"chem\": 20\n",
        "                }\n",
        "            }\n",
        "        }\n",
        "    }\n",
        "}\n",
        "\n",
        "print(StudentsDB)"
      ],
      "metadata": {
        "id": "1c9aJT9mkU6g",
        "colab": {
          "base_uri": "https://localhost:8080/"
        },
        "outputId": "8ecadb2c-4b06-470c-cf27-5a13de79f635"
      },
      "execution_count": 39,
      "outputs": [
        {
          "output_type": "stream",
          "name": "stdout",
          "text": [
            "{'2022': {'Branch1': {'R1': {'name': 'Adam', 'marks': {'math': 20, 'phys': 10, 'chem': 18}}, 'R2': {'name': 'Dave', 'marks': {'math': 20, 'phys': 20, 'chem': 20}}}, 'Branch2': {'R1': {'name': 'Bill', 'marks': {'math': 20, 'phys': 20, 'chem': 20}}}}, '2023': {'Branch1': {'R1': {'name': 'Cath', 'marks': {'math': 20, 'phys': 20, 'chem': 20}}}}}\n"
          ]
        }
      ]
    },
    {
      "cell_type": "markdown",
      "source": [
        "#Problem 8"
      ],
      "metadata": {
        "id": "gitCTGxmkGOJ"
      }
    },
    {
      "cell_type": "code",
      "source": [
        "import json\n",
        "\n",
        "class StudentsDB:\n",
        "  def __init__(self):\n",
        "     self._db = {}\n",
        "  \n",
        "  def add(self, yr, branch):\n",
        "    if yr not in self._db.keys():\n",
        "      self._db.__setitem__(yr, {})\n",
        "    \n",
        "    self._db[yr].__setitem__(f\"Branch{len(self._db[yr])+1}\", branch._db)\n",
        "\n",
        "class Branch:\n",
        "  def __init__(self):\n",
        "    self._db = {}\n",
        "\n",
        "  def add(self, stud):    \n",
        "    self._db.__setitem__(f\"R{len(self._db)+1}\", {\n",
        "        \"name\": stud.name,\n",
        "        \"marks\": stud.marks\n",
        "    })\n",
        "\n",
        "class Student:\n",
        "  def __init__(self, name, marks):\n",
        "    self.name = name\n",
        "    self.marks = {\n",
        "        \"math\": marks.math,\n",
        "        \"phys\": marks.phys,\n",
        "        \"chem\": marks.chem\n",
        "    }\n",
        "\n",
        "class SubMarks:\n",
        "  def __init__(self, x, y, z):\n",
        "    self.math = x\n",
        "    self.phys = y\n",
        "    self.chem = z\n",
        "\n",
        "# For making classes I have approached the problem in two ways:\n",
        "#   * Making dict in class: For such classes we have to make variable for different keys, \n",
        "#     but we do not have enter keys in calling.\n",
        "#   * By variables in class: No need of separate variables, keys can be added while declaration.\n",
        "#\n",
        "branch1 = Branch()\n",
        "branch2 = Branch()\n",
        "branch3 = Branch()\n",
        "\n",
        "branch1.add( Student(\"Adam\",      SubMarks(20, 20, 20) ) )\n",
        "branch1.add( Student(\"Dave\",      SubMarks(17, 18, 14) ) )\n",
        "branch2.add( Student(\"Bill\",      SubMarks(10, 2, 9)   ) )\n",
        "branch3.add( Student(\"Elon\",      SubMarks(20, 20, 19) ) )\n",
        "branch1.add( Student(\"Catherine\", SubMarks(20, 20, 20) ) )\n",
        "\n",
        "db = StudentsDB()\n",
        "db.add(2022, branch1)\n",
        "db.add(2022, branch2)\n",
        "db.add(2023, branch3)\n",
        "\n",
        "print(json.dumps(db._db, indent = 4))"
      ],
      "metadata": {
        "id": "oKmMZDJ57aTq",
        "colab": {
          "base_uri": "https://localhost:8080/"
        },
        "outputId": "05f7b9f0-0281-439e-d57c-6376be598530"
      },
      "execution_count": 40,
      "outputs": [
        {
          "output_type": "stream",
          "name": "stdout",
          "text": [
            "{\n",
            "    \"2022\": {\n",
            "        \"Branch1\": {\n",
            "            \"R1\": {\n",
            "                \"name\": \"Adam\",\n",
            "                \"marks\": {\n",
            "                    \"math\": 20,\n",
            "                    \"phys\": 20,\n",
            "                    \"chem\": 20\n",
            "                }\n",
            "            },\n",
            "            \"R2\": {\n",
            "                \"name\": \"Dave\",\n",
            "                \"marks\": {\n",
            "                    \"math\": 17,\n",
            "                    \"phys\": 18,\n",
            "                    \"chem\": 14\n",
            "                }\n",
            "            },\n",
            "            \"R3\": {\n",
            "                \"name\": \"Catherine\",\n",
            "                \"marks\": {\n",
            "                    \"math\": 20,\n",
            "                    \"phys\": 20,\n",
            "                    \"chem\": 20\n",
            "                }\n",
            "            }\n",
            "        },\n",
            "        \"Branch2\": {\n",
            "            \"R1\": {\n",
            "                \"name\": \"Bill\",\n",
            "                \"marks\": {\n",
            "                    \"math\": 10,\n",
            "                    \"phys\": 2,\n",
            "                    \"chem\": 9\n",
            "                }\n",
            "            }\n",
            "        }\n",
            "    },\n",
            "    \"2023\": {\n",
            "        \"Branch1\": {\n",
            "            \"R1\": {\n",
            "                \"name\": \"Elon\",\n",
            "                \"marks\": {\n",
            "                    \"math\": 20,\n",
            "                    \"phys\": 20,\n",
            "                    \"chem\": 19\n",
            "                }\n",
            "            }\n",
            "        }\n",
            "    }\n",
            "}\n"
          ]
        }
      ]
    },
    {
      "cell_type": "markdown",
      "source": [
        "#Problem 9"
      ],
      "metadata": {
        "id": "nMl2wgWKkWpS"
      }
    },
    {
      "cell_type": "code",
      "source": [
        "import matplotlib.pyplot as plt\n",
        "import numpy as np\n",
        "\n",
        "x = np.arange(0.5, 100.0, 0.5)\n",
        "\n",
        "y1 = x\n",
        "y2 = x*x\n",
        "y3 = (x**3)/3\n",
        "y4 = np.sin(x)\n",
        "y5 = np.sin(x)/x\n",
        "y6 = np.log(x)\n",
        "y7 = np.exp(x)\n",
        "\n",
        "plt.title('x')\n",
        "plt.plot(x, y1)\n",
        "plt.show()\n",
        "\n",
        "plt.title('x^2')\n",
        "plt.plot(x, y2)\n",
        "plt.show()\n",
        "\n",
        "plt.title('(x^3)/100')\n",
        "plt.plot(x, y3)\n",
        "plt.show()\n",
        "\n",
        "plt.title('sin(x)')\n",
        "plt.plot(x, y4)\n",
        "plt.show()\n",
        "\n",
        "plt.title('sin(x)/x')\n",
        "plt.plot(x, y5)\n",
        "plt.show()\n",
        "\n",
        "plt.title('log(x)')\n",
        "plt.plot(x, y6)\n",
        "plt.show()\n",
        "\n",
        "plt.title('exp(x)')\n",
        "plt.plot(x, y7)\n",
        "plt.show()"
      ],
      "metadata": {
        "id": "tNo1Txyjkbk3",
        "colab": {
          "base_uri": "https://localhost:8080/",
          "height": 1000
        },
        "outputId": "494ed119-b0bc-4422-8f48-83ed6b923a5a"
      },
      "execution_count": 41,
      "outputs": [
        {
          "output_type": "display_data",
          "data": {
            "text/plain": [
              "<Figure size 432x288 with 1 Axes>"
            ],
            "image/png": "[encoded data removed]"
          },
          "metadata": {
            "needs_background": "light"
          }
        },
        {
          "output_type": "display_data",
          "data": {
            "text/plain": [
              "<Figure size 432x288 with 1 Axes>"
            ],
            "image/png": "[encoded data removed]"
          },
          "metadata": {
            "needs_background": "light"
          }
        },
        {
          "output_type": "display_data",
          "data": {
            "text/plain": [
              "<Figure size 432x288 with 1 Axes>"
            ],
            "image/png": "[encoded data removed]"
          },
          "metadata": {
            "needs_background": "light"
          }
        },
        {
          "output_type": "display_data",
          "data": {
            "text/plain": [
              "<Figure size 432x288 with 1 Axes>"
            ],
            "image/png": "[encoded data removed]"
          },
          "metadata": {
            "needs_background": "light"
          }
        },
        {
          "output_type": "display_data",
          "data": {
            "text/plain": [
              "<Figure size 432x288 with 1 Axes>"
            ],
            "image/png": "[encoded data removed]"
          },
          "metadata": {
            "needs_background": "light"
          }
        },
        {
          "output_type": "display_data",
          "data": {
            "text/plain": [
              "<Figure size 432x288 with 1 Axes>"
            ],
            "image/png": "[encoded data removed]"
          },
          "metadata": {
            "needs_background": "light"
          }
        },
        {
          "output_type": "display_data",
          "data": {
            "text/plain": [
              "<Figure size 432x288 with 1 Axes>"
            ],
            "image/png": "[encoded data removed]"
          },
          "metadata": {
            "needs_background": "light"
          }
        }
      ]
    },
    {
      "cell_type": "markdown",
      "source": [
        "#Problem 10&11"
      ],
      "metadata": {
        "id": "sWT9223Dkurs"
      }
    },
    {
      "cell_type": "code",
      "source": [
        "import numpy as np\n",
        "import pandas as pd\n",
        "\n",
        "A = np.random.uniform(1, 2, size=(20, 5))\n",
        "print(\"Matrix\")\n",
        "print(A)\n",
        "print()\n",
        "\n",
        "df = pd.DataFrame(A, columns=[\"a\", \"b\", \"c\", \"d\", \"e\"])\n",
        "\n",
        "stdev_Col = df.std().idxmax()\n",
        "mean_Row = df.mean(axis=1).idxmin()\n",
        "\n",
        "print(\"Column with highest standard deviation:\", stdev_Col)\n",
        "print(\"Row with lowest mean:\", mean_Row)"
      ],
      "metadata": {
        "id": "tjoG_sHwkyRr",
        "colab": {
          "base_uri": "https://localhost:8080/"
        },
        "outputId": "2c375613-7ba3-4186-eddd-7e799ff7a7f9"
      },
      "execution_count": 42,
      "outputs": [
        {
          "output_type": "stream",
          "name": "stdout",
          "text": [
            "Matrix\n",
            "[[1.69789239 1.77735462 1.40903096 1.82731536 1.3714919 ]\n",
            " [1.68961997 1.10273722 1.58619828 1.32186983 1.20391414]\n",
            " [1.39421282 1.52509154 1.70197909 1.12048752 1.30387728]\n",
            " [1.26488162 1.24213469 1.3676338  1.92509509 1.60636454]\n",
            " [1.1053798  1.49985995 1.1061569  1.53841227 1.31793638]\n",
            " [1.60431601 1.26192219 1.64099416 1.49896019 1.65590916]\n",
            " [1.44440737 1.14107856 1.9975125  1.34822998 1.93815467]\n",
            " [1.65880473 1.04753513 1.16212979 1.83342522 1.60801209]\n",
            " [1.4399293  1.17657506 1.6638005  1.85713978 1.0382515 ]\n",
            " [1.94306106 1.5865079  1.03196433 1.94627585 1.83743349]\n",
            " [1.26392456 1.82248028 1.88999784 1.24436298 1.33038603]\n",
            " [1.87284865 1.20517562 1.55766819 1.2298902  1.64062241]\n",
            " [1.85263415 1.20494604 1.61389779 1.25717563 1.90113122]\n",
            " [1.59951767 1.06468984 1.1748553  1.74895409 1.00583006]\n",
            " [1.44944582 1.14498129 1.26666059 1.89828917 1.89290001]\n",
            " [1.9467631  1.85936168 1.89004236 1.07584337 1.12414335]\n",
            " [1.4396844  1.32391063 1.31267662 1.6336925  1.48627393]\n",
            " [1.00387166 1.38305609 1.5157244  1.24633793 1.59290281]\n",
            " [1.22196829 1.49649139 1.92513053 1.982545   1.41999334]\n",
            " [1.94472066 1.27058517 1.99336026 1.45846807 1.73042165]]\n",
            "\n",
            "Column with highest standard deviation: d\n",
            "Row with lowest mean: 4\n"
          ]
        }
      ]
    },
    {
      "cell_type": "code",
      "source": [
        "df[\"f\"] = df[\"a\"] + df[\"b\"] + df[\"c\"] + df[\"d\"] + df[\"e\"]\n",
        "df = df.assign(g=np.where(df[\"f\"] < 8, \"LT8\", \"GT8\"))\n",
        "\n",
        "print(\"Count of LT8 in column g:\", df.loc[df[\"g\"] == \"LT8\", \"g\"].count())\n",
        "\n",
        "print(\"Standard deviation of the column f where column g cell holds LT8:\",  df.loc[df[\"g\"] == \"LT8\", \"f\"].std())\n",
        "\n",
        "print(\"Standard deviation of the column f where column g cell holds GT8:\", df.loc[df[\"g\"] == \"GT8\", \"f\"].std())"
      ],
      "metadata": {
        "colab": {
          "base_uri": "https://localhost:8080/"
        },
        "id": "LxwdWyhoTSMc",
        "outputId": "02eca458-f69d-44e6-e481-128f921ac1d3"
      },
      "execution_count": 43,
      "outputs": [
        {
          "output_type": "stream",
          "name": "stdout",
          "text": [
            "Count of LT8 in column g: 16\n",
            "Standard deviation of the column f where column g cell holds LT8: 0.44162559005978724\n",
            "Standard deviation of the column f where column g cell holds GT8: 0.17904633635031494\n"
          ]
        }
      ]
    },
    {
      "cell_type": "markdown",
      "source": [
        "#Problem 12\n",
        "\n",
        "Broadcasting is a process used by numpy to allow operations to be performed on arrays of various shapes as long as they are compatible i.e.\n",
        "\n",
        "Either have\n",
        "\n",
        "*   Two dimensions to be equal\n",
        "*   or, one of the dimension should be 1\n",
        "\n",
        "For e.g.\n",
        "\n"
      ],
      "metadata": {
        "id": "CDh2zXjmTWVl"
      }
    },
    {
      "cell_type": "code",
      "source": [
        "A = np.array([[51, 32, 53, 4], [31, 65, 7, 88], [19, 10, 16, 12]])\n",
        "B = np.array([10, 20, 30, 40])\n",
        "\n",
        "C = A * B\n",
        "\n",
        "print(C)"
      ],
      "metadata": {
        "colab": {
          "base_uri": "https://localhost:8080/"
        },
        "id": "FzlUd46JTXes",
        "outputId": "9b608f51-e741-4a6f-ada1-5b48d0773b8a"
      },
      "execution_count": 44,
      "outputs": [
        {
          "output_type": "stream",
          "name": "stdout",
          "text": [
            "[[ 510  640 1590  160]\n",
            " [ 310 1300  210 3520]\n",
            " [ 190  200  480  480]]\n"
          ]
        }
      ]
    },
    {
      "cell_type": "markdown",
      "source": [
        "#Problem 13"
      ],
      "metadata": {
        "id": "Q0rtYIO9TXup"
      }
    },
    {
      "cell_type": "code",
      "source": [
        "ArrayRangemin = 0\n",
        "ArrayRangemax = 20\n",
        "A = np.random.randint(ArrayRangemin, ArrayRangemax, size = 9)\n",
        "\n",
        "def lowest_elem(A):\n",
        "  lowest = 0\n",
        "\n",
        "  for j in range(len(A)):\n",
        "    if A[j] < A[lowest]:\n",
        "        lowest = j\n",
        "\n",
        "  return lowest\n",
        "\n",
        "print(A)\n",
        "lowest = lowest_elem(A)\n",
        "print(f\"The lowest element is {A[lowest]} and its index is {lowest}\")"
      ],
      "metadata": {
        "colab": {
          "base_uri": "https://localhost:8080/"
        },
        "id": "O49fF8YhTYxr",
        "outputId": "3c9e67fa-64bf-4c8f-f653-0ad2ea62e597"
      },
      "execution_count": 45,
      "outputs": [
        {
          "output_type": "stream",
          "name": "stdout",
          "text": [
            "[19 18 19 11 17  0 17  8  7]\n",
            "The lowest element is 0 and its index is 5\n"
          ]
        }
      ]
    },
    {
      "cell_type": "code",
      "source": [
        "print(np.argmin(A))"
      ],
      "metadata": {
        "colab": {
          "base_uri": "https://localhost:8080/"
        },
        "id": "sW6HxKBgfVkX",
        "outputId": "74f2559a-c5ee-43b6-817f-a1174b3ac2c2"
      },
      "execution_count": 46,
      "outputs": [
        {
          "output_type": "stream",
          "name": "stdout",
          "text": [
            "5\n"
          ]
        }
      ]
    }
  ]
}